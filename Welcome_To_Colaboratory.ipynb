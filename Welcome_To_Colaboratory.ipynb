{
  "nbformat": 4,
  "nbformat_minor": 0,
  "metadata": {
    "colab": {
      "name": "Welcome To Colaboratory",
      "provenance": [],
      "collapsed_sections": [],
      "toc_visible": true,
      "include_colab_link": true
    },
    "kernelspec": {
      "display_name": "Python 3",
      "name": "python3"
    }
  },
  "cells": [
    {
      "cell_type": "markdown",
      "metadata": {
        "id": "view-in-github",
        "colab_type": "text"
      },
      "source": [
        "<a href=\"https://colab.research.google.com/github/amit-kumar1995/Assignment-2/blob/master/Welcome_To_Colaboratory.ipynb\" target=\"_parent\"><img src=\"https://colab.research.google.com/assets/colab-badge.svg\" alt=\"Open In Colab\"/></a>"
      ]
    },
    {
      "cell_type": "code",
      "metadata": {
        "id": "eEMhnZtUvof0",
        "colab_type": "code",
        "colab": {
          "base_uri": "https://localhost:8080/",
          "height": 35
        },
        "outputId": "6ec8a496-6229-4764-9333-496247be0261"
      },
      "source": [
        "import pandas as pd\n",
        "import numpy as np\n",
        "import math\n",
        "import matplotlib.pyplot as plt\n",
        "from google.colab import files\n",
        "data = pd.read_table('/content/sample_data/Assignment - 2/ex2data1.txt',sep=',',names=['a','b','c']);\n",
        "x = np.array(pd.DataFrame(data, columns=['a','b']));\n",
        "y = np.array(data['c'])\n",
        "#plot(x,y)\n",
        "#sigmoid(0)"
      ],
      "execution_count": 94,
      "outputs": [
        {
          "output_type": "stream",
          "text": [
            "0.5\n"
          ],
          "name": "stdout"
        }
      ]
    },
    {
      "cell_type": "code",
      "metadata": {
        "id": "Heok-A9CRRFP",
        "colab_type": "code",
        "colab": {}
      },
      "source": [
        "def cost_function(x,y,theta):\n",
        "  "
      ],
      "execution_count": 0,
      "outputs": []
    },
    {
      "cell_type": "code",
      "metadata": {
        "id": "FxcJN157-9pL",
        "colab_type": "code",
        "colab": {}
      },
      "source": [
        "def plot(x,y):\n",
        "  #Find Indices of Positive and Negative Examples\n",
        "  pos = np.where(y==1); neg = np.where(y==0);\n",
        "  # Plot Examples\n",
        "  plt.plot(x[:,:1][pos],x[:,1:][pos], 'k+');\n",
        "  plt.plot(x[:,:1][neg],x[:,1:][neg], 'ko',color ='y');\n",
        "  plt.axis([29,100,29,100])\n",
        "  plt.xlabel('Exam 1 score');\n",
        "  plt.ylabel('Exam 2 score');\n",
        "  plt.show()"
      ],
      "execution_count": 0,
      "outputs": []
    },
    {
      "cell_type": "code",
      "metadata": {
        "id": "NRngaalFLitL",
        "colab_type": "code",
        "colab": {}
      },
      "source": [
        "def sigmoid(z):\n",
        "  exponent = math.exp(-z)\n",
        "  result = 1/(1+exponent);\n",
        "  return result\n",
        "\n"
      ],
      "execution_count": 0,
      "outputs": []
    }
  ]
}